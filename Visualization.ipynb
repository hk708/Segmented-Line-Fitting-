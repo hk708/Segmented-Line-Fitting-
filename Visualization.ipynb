{
 "cells": [
  {
   "cell_type": "code",
   "execution_count": 56,
   "metadata": {
    "id": "XkGqYWoePcOF"
   },
   "outputs": [],
   "source": [
    "import numpy as np\n",
    "from matplotlib.collections import LineCollection\n",
    "import matplotlib.pyplot as plt\n",
    "from matplotlib import collections  as mc\n",
    "import re"
   ]
  },
  {
   "cell_type": "code",
   "execution_count": 57,
   "metadata": {
    "id": "1jXi0JzwTDPr"
   },
   "outputs": [],
   "source": [
    "with open('input.txt', 'r') as f1:\n",
    "    points = f1.read()\n",
    "with open('segment_points.txt', 'r') as f3:\n",
    "    line_pts = f3.read()"
   ]
  },
  {
   "cell_type": "code",
   "execution_count": 58,
   "metadata": {
    "id": "hT2h9RAapIYT"
   },
   "outputs": [],
   "source": [
    "line_pts = line_pts.split(\"\\n\")[:-1]"
   ]
  },
  {
   "cell_type": "code",
   "execution_count": 59,
   "metadata": {
    "colab": {
     "base_uri": "https://localhost:8080/"
    },
    "id": "wTQ8V1-ooR1T",
    "outputId": "96c4dcbe-9461-48f0-d366-76637809eb07"
   },
   "outputs": [],
   "source": [
    "inp = []\n",
    "\n",
    "for line in line_pts:\n",
    "  new_line = line.replace('(',\" \")\n",
    "  new_line = new_line.replace(')',\" \")\n",
    "  new_line = new_line.replace(\",\",\" \")\n",
    "  new_line = new_line.split(\" \")\n",
    "  tuple_list = []\n",
    "  tuple_list.append((float(new_line[1]),float(new_line[2])))\n",
    "  tuple_list.append((float(new_line[5]),float(new_line[6])))\n",
    "  inp.append(tuple_list)"
   ]
  },
  {
   "cell_type": "code",
   "execution_count": 60,
   "metadata": {
    "id": "UqNlFJlFoyEH"
   },
   "outputs": [],
   "source": [
    "dotted = []\n",
    "for index,value in enumerate(inp):\n",
    "  if(index!=len(inp)-1):\n",
    "    list_val = []\n",
    "    list_val.append(inp[index][1])\n",
    "    list_val.append(inp[index+1][0])\n",
    "    dotted.append(list_val)\n"
   ]
  },
  {
   "cell_type": "code",
   "execution_count": 61,
   "metadata": {
    "id": "ekSsgHuvTls-"
   },
   "outputs": [],
   "source": [
    "points = points.split(\"\\n\")"
   ]
  },
  {
   "cell_type": "code",
   "execution_count": 62,
   "metadata": {
    "id": "dhslKHX0UnbJ"
   },
   "outputs": [],
   "source": [
    "point_array = []\n",
    "for point in points:\n",
    "  numbers_extracted = re.findall(r'-?\\d+',point)\n",
    "  point_array.append(numbers_extracted)\n",
    "popped = point_array.pop()"
   ]
  },
  {
   "cell_type": "code",
   "execution_count": 63,
   "metadata": {
    "id": "I_7ENW4ld31B"
   },
   "outputs": [],
   "source": [
    "point_array = np.array(point_array)"
   ]
  },
  {
   "cell_type": "code",
   "execution_count": 64,
   "metadata": {
    "colab": {
     "base_uri": "https://localhost:8080/",
     "height": 265
    },
    "id": "PzkPHIBKYSRw",
    "outputId": "f939a96b-6d71-4f1f-d819-885b2c3ecb49"
   },
   "outputs": [
    {
     "data": {
      "image/png": "[encoded data removed]",
      "text/plain": [
       "<Figure size 432x288 with 1 Axes>"
      ]
     },
     "metadata": {
      "needs_background": "light"
     },
     "output_type": "display_data"
    }
   ],
   "source": [
    "fig,ax1 = plt.subplots()\n",
    "for point in point_array:\n",
    "  x = int(point[0])\n",
    "  y = int(point[1])\n",
    "  plt.scatter(x, y,color = 'r')\n",
    "inp_lines = mc.LineCollection(inp, colors='b', linewidths=3)\n",
    "dotted_lines = mc.LineCollection(dotted, colors='g', linewidths=3,linestyles= 'dotted')\n",
    "ax1.add_collection(inp_lines)\n",
    "ax1.autoscale()\n",
    "ax1.margins(0.1)\n",
    "ax1.add_collection(dotted_lines)\n",
    "ax1.autoscale()\n",
    "ax1.margins(0.1)"
   ]
  },
  {
   "cell_type": "code",
   "execution_count": null,
   "metadata": {},
   "outputs": [],
   "source": []
  }
 ],
 "metadata": {
  "colab": {
   "name": "DAA_assignment_2_visualization",
   "provenance": []
  },
  "kernelspec": {
   "display_name": "Python 3",
   "language": "python",
   "name": "python3"
  },
  "language_info": {
   "codemirror_mode": {
    "name": "ipython",
    "version": 3
   },
   "file_extension": ".py",
   "mimetype": "text/x-python",
   "name": "python",
   "nbconvert_exporter": "python",
   "pygments_lexer": "ipython3",
   "version": "3.8.3"
  }
 },
 "nbformat": 4,
 "nbformat_minor": 1
}
